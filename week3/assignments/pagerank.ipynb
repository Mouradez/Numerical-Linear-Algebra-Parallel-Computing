{
 "cells": [
  {
   "cell_type": "markdown",
   "id": "87d64ccf",
   "metadata": {},
   "source": [
    "Use this cell for all your imports"
   ]
  },
  {
   "cell_type": "code",
   "execution_count": 30,
   "id": "40623a0d",
   "metadata": {},
   "outputs": [],
   "source": [
    "import numpy as np\n",
    "import pandas as pd\n",
    "import scipy.sparse as sp\n",
    "import networkx as nx\n",
    "import matplotlib.pyplot as plt\n",
    "from scipy.sparse import coo_matrix\n",
    "import plotly.graph_objs as go\n",
    "from sklearn.preprocessing import normalize"
   ]
  },
  {
   "cell_type": "markdown",
   "id": "164f305b",
   "metadata": {},
   "source": [
    "You will be working with the file data.txt. Use this cell to load its content into the appropriate data structure."
   ]
  },
  {
   "cell_type": "code",
   "execution_count": 31,
   "id": "be42fee4",
   "metadata": {},
   "outputs": [
    {
     "name": "stdout",
     "output_type": "stream",
     "text": [
      "[   1001    1001    1001 ... 9912286 9912286 9912286]\n",
      "[9304045 9308122 9309097 ... 9808140 9810068 9901023]\n"
     ]
    }
   ],
   "source": [
    "# open the txt file and extract the source and the target nodes\n",
    "f = open('data.txt', 'r')\n",
    "list1, list2 = zip(*[x.split() for x in f.readlines()])\n",
    "# Convert the lists into numpy arrays and remove the unnecessary elements\n",
    "data1 = np.array(list1)\n",
    "data2 = np.array(list2)\n",
    "\n",
    "data1 = np.delete(data1 ,[0,1,2,3])\n",
    "data2 = np.delete(data2 ,[0,1,2,3])\n",
    "\n",
    "# Convert datatype to integers\n",
    "source = data1.astype(int) # the source node\n",
    "target = data2.astype(int) # the target node\n",
    "\n",
    "print(source)\n",
    "print(target)"
   ]
  },
  {
   "cell_type": "code",
   "execution_count": 32,
   "id": "3e0be0e6",
   "metadata": {},
   "outputs": [],
   "source": [
    "n = len(source)\n",
    "data = np.ones(n)\n",
    "\n",
    "# Create the Adjacency matrix and store it in the coo format \n",
    "adjacency_matrix = coo_matrix((data, (source,target)))"
   ]
  },
  {
   "cell_type": "markdown",
   "id": "4c7a8af4",
   "metadata": {},
   "source": [
    "Use this cell to normalize the matrix as you see fit."
   ]
  },
  {
   "cell_type": "code",
   "execution_count": 33,
   "id": "2e612783",
   "metadata": {},
   "outputs": [],
   "source": [
    "#normalize matrix by rows\n",
    "normalized_matrix = normalize(adjacency_matrix, norm='l1', axis=1)"
   ]
  },
  {
   "cell_type": "markdown",
   "id": "5a4ee89a",
   "metadata": {},
   "source": [
    "Apply the PageRank algorithm to the matrix you created."
   ]
  },
  {
   "cell_type": "code",
   "execution_count": 34,
   "id": "ae9319ef",
   "metadata": {},
   "outputs": [],
   "source": [
    "# Use the networkx library to implement the PageRank algorithm\n",
    "graph = nx.from_scipy_sparse_array(normalized_matrix)\n",
    "# PageRank scores of the nodes in the graph\n",
    "pagerank_scores = nx.pagerank(graph)"
   ]
  },
  {
   "cell_type": "markdown",
   "id": "005047ad",
   "metadata": {},
   "source": [
    "Output a list of the 100 most important papers along with their importance"
   ]
  },
  {
   "cell_type": "code",
   "execution_count": 35,
   "id": "46d1896d",
   "metadata": {
    "scrolled": true
   },
   "outputs": [
    {
     "name": "stdout",
     "output_type": "stream",
     "text": [
      " 1. ID : 9711200 : 7.9453e-06\n",
      " 2. ID : 9407087 : 6.1548e-06\n",
      " 3. ID : 9802150 : 5.4118e-06\n",
      " 4. ID : 9906064 : 5.0485e-06\n",
      " 5. ID : 9908142 : 4.6387e-06\n",
      " 6. ID : 9802109 : 4.6189e-06\n",
      " 7. ID : 9610043 : 4.1941e-06\n",
      " 8. ID : 9408099 : 3.9831e-06\n",
      " 9. ID : 9510017 : 3.3993e-06\n",
      " 10. ID : 9503124 : 3.1405e-06\n",
      " 11. ID : 9905111 : 2.7682e-06\n",
      " 12. ID : 9711162 : 2.6246e-06\n",
      " 13. ID : 9510209 : 2.6048e-06\n",
      " 14. ID : 9204099 : 2.5951e-06\n",
      " 15. ID : 9405029 : 2.2829e-06\n",
      " 16. ID : 9611050 : 2.2142e-06\n",
      " 17. ID : 9510135 : 2.1863e-06\n",
      " 18. ID : 9410167 : 1.9416e-06\n",
      " 19. ID : 9205068 : 1.9396e-06\n",
      " 20. ID : 9210010 : 1.8714e-06\n",
      " 21. ID : 9601029 : 1.8691e-06\n",
      " 22. ID : 9409089 : 1.8632e-06\n",
      " 23. ID : 9401139 : 1.7893e-06\n",
      " 24. ID : 9204064 : 1.7667e-06\n",
      " 25. ID : 9411149 : 1.7248e-06\n",
      " 26. ID : 9412184 : 1.671e-06\n",
      " 27. ID : 9603142 : 1.6403e-06\n",
      " 28. ID : 9301042 : 1.6188e-06\n",
      " 29. ID : 9401153 : 1.4752e-06\n",
      " 30. ID : 9306002 : 1.4719e-06\n",
      " 31. ID : 9602022 : 1.4221e-06\n",
      " 32. ID : 9201056 : 1.4204e-06\n",
      " 33. ID : 9204083 : 1.4182e-06\n",
      " 34. ID : 9803131 : 1.4004e-06\n",
      " 35. ID : 9201061 : 1.3467e-06\n",
      " 36. ID : 9612115 : 1.3232e-06\n",
      " 37. ID : 9202057 : 1.3164e-06\n",
      " 38. ID : 9206084 : 1.3061e-06\n",
      " 39. ID : 9402044 : 1.2439e-06\n",
      " 40. ID : 9411102 : 1.2265e-06\n",
      " 41. ID : 9912072 : 1.2055e-06\n",
      " 42. ID : 9711165 : 1.1839e-06\n",
      " 43. ID : 9509066 : 1.1668e-06\n",
      " 44. ID : 9402002 : 1.1519e-06\n",
      " 45. ID : 9611230 : 1.1498e-06\n",
      " 46. ID : 9703166 : 1.1223e-06\n",
      " 47. ID : 9602052 : 1.1112e-06\n",
      " 48. ID : 9703030 : 1.1038e-06\n",
      " 49. ID : 9408074 : 1.087e-06\n",
      " 50. ID : 9603167 : 1.0868e-06\n",
      " 51. ID : 106048 : 1.0791e-06\n",
      " 52. ID : 9306153 : 1.0779e-06\n",
      " 53. ID : 9211021 : 1.0762e-06\n",
      " 54. ID : 9206070 : 1.0725e-06\n",
      " 55. ID : 9810188 : 1.0676e-06\n",
      " 56. ID : 9602070 : 1.0395e-06\n",
      " 57. ID : 9412228 : 1.039e-06\n",
      " 58. ID : 9402032 : 1.0335e-06\n",
      " 59. ID : 9501068 : 1.0255e-06\n",
      " 60. ID : 9608024 : 1.018e-06\n",
      " 61. ID : 9206029 : 1.0158e-06\n",
      " 62. ID : 9205027 : 1.0152e-06\n",
      " 63. ID : 9202046 : 1.0091e-06\n",
      " 64. ID : 9304154 : 1.0023e-06\n",
      " 65. ID : 9202014 : 9.987e-07\n",
      " 66. ID : 9508143 : 9.843e-07\n",
      " 67. ID : 9301068 : 9.837e-07\n",
      " 68. ID : 9603053 : 9.825e-07\n",
      " 69. ID : 9910053 : 9.811e-07\n",
      " 70. ID : 9304011 : 9.721e-07\n",
      " 71. ID : 9209044 : 9.697e-07\n",
      " 72. ID : 202021 : 9.639e-07\n",
      " 73. ID : 9306069 : 9.559e-07\n",
      " 74. ID : 9207016 : 9.55e-07\n",
      " 75. ID : 9201026 : 9.514e-07\n",
      " 76. ID : 9212149 : 9.379e-07\n",
      " 77. ID : 9507158 : 9.358e-07\n",
      " 78. ID : 9803002 : 9.32e-07\n",
      " 79. ID : 9510169 : 9.305e-07\n",
      " 80. ID : 9704080 : 9.29e-07\n",
      " 81. ID : 9206007 : 9.277e-07\n",
      " 82. ID : 9405109 : 9.264e-07\n",
      " 83. ID : 9208066 : 9.176e-07\n",
      " 84. ID : 9401070 : 9.119e-07\n",
      " 85. ID : 9905012 : 9.057e-07\n",
      " 86. ID : 9303046 : 8.901e-07\n",
      " 87. ID : 9512062 : 8.75e-07\n",
      " 88. ID : 9607201 : 8.719e-07\n",
      " 89. ID : 9602043 : 8.636e-07\n",
      " 90. ID : 9208007 : 8.636e-07\n",
      " 91. ID : 3160 : 8.461e-07\n",
      " 92. ID : 9610193 : 8.446e-07\n",
      " 93. ID : 9504090 : 8.41e-07\n",
      " 94. ID : 9210141 : 8.346e-07\n",
      " 95. ID : 9802042 : 8.291e-07\n",
      " 96. ID : 9903205 : 8.248e-07\n",
      " 97. ID : 9909134 : 8.228e-07\n",
      " 98. ID : 9708147 : 8.224e-07\n",
      " 99. ID : 9812219 : 8.211e-07\n",
      " 100. ID : 9805114 : 8.18e-07\n"
     ]
    }
   ],
   "source": [
    "sorted_scores = sorted(pagerank_scores.items(), key=lambda x: x[1], reverse=True)\n",
    "\n",
    "# Top 100 papers and their PageRank scores :\n",
    "for i, id_ in enumerate(sorted_scores[:100]):\n",
    "    print(f\" {i+1}. ID : {id_[0]} : {np.round(id_[1], decimals = 10)}\")"
   ]
  },
  {
   "cell_type": "markdown",
   "id": "b0ba2208",
   "metadata": {},
   "source": [
    "Visualize your results"
   ]
  },
  {
   "cell_type": "code",
   "execution_count": 36,
   "id": "25affee6",
   "metadata": {},
   "outputs": [
    {
     "data": {
      "application/vnd.plotly.v1+json": {
       "config": {
        "plotlyServerURL": "https://plot.ly"
       },
       "data": [
        {
         "mode": "lines",
         "type": "scatter",
         "x": [
          1,
          2,
          3,
          4,
          5,
          6,
          7,
          8,
          9,
          10,
          11,
          12,
          13,
          14,
          15,
          16,
          17,
          18,
          19,
          20,
          21,
          22,
          23,
          24,
          25,
          26,
          27,
          28,
          29,
          30,
          31,
          32,
          33,
          34,
          35,
          36,
          37,
          38,
          39,
          40,
          41,
          42,
          43,
          44,
          45,
          46,
          47,
          48,
          49,
          50,
          51,
          52,
          53,
          54,
          55,
          56,
          57,
          58,
          59,
          60,
          61,
          62,
          63,
          64,
          65,
          66,
          67,
          68,
          69,
          70,
          71,
          72,
          73,
          74,
          75,
          76,
          77,
          78,
          79,
          80,
          81,
          82,
          83,
          84,
          85,
          86,
          87,
          88,
          89,
          90,
          91,
          92,
          93,
          94,
          95,
          96,
          97,
          98,
          99,
          100
         ],
         "y": [
          7.945290201360952e-06,
          6.154808906254422e-06,
          5.4118128128702526e-06,
          5.0484852225705165e-06,
          4.6387055686501664e-06,
          4.6189215398053685e-06,
          4.194102725202952e-06,
          3.98312504050675e-06,
          3.399256851758646e-06,
          3.140466934046247e-06,
          2.7681663657358966e-06,
          2.6245897662883717e-06,
          2.6047690523225917e-06,
          2.5951494064786984e-06,
          2.282933684526746e-06,
          2.214231327231964e-06,
          2.186265507027362e-06,
          1.941578034560717e-06,
          1.9396141070046414e-06,
          1.8713618006170736e-06,
          1.8691017114945755e-06,
          1.863229284322607e-06,
          1.7893206696398765e-06,
          1.7666684184968786e-06,
          1.7247617100820063e-06,
          1.671021342151208e-06,
          1.6403379703427124e-06,
          1.61875764908608e-06,
          1.4752368840258638e-06,
          1.4718610761260532e-06,
          1.4221379501784873e-06,
          1.4203658029560669e-06,
          1.41818987520677e-06,
          1.4004484359811846e-06,
          1.3466689614651203e-06,
          1.3232321917870216e-06,
          1.3164103390159568e-06,
          1.3060933309451467e-06,
          1.2439193255541152e-06,
          1.2265091415760663e-06,
          1.2055039777972878e-06,
          1.1839190096119746e-06,
          1.166840835424718e-06,
          1.151878964655938e-06,
          1.1497758782208079e-06,
          1.1222753884562184e-06,
          1.1112180637690208e-06,
          1.1038068783579804e-06,
          1.0870217946422098e-06,
          1.0867971282897177e-06,
          1.079079644403522e-06,
          1.0778739138460862e-06,
          1.0761815205027997e-06,
          1.0725356579090207e-06,
          1.0676417543816184e-06,
          1.0395479827834684e-06,
          1.0389727768857354e-06,
          1.0334786965274647e-06,
          1.0255405026322363e-06,
          1.0179631075163641e-06,
          1.0157942167974685e-06,
          1.0151686980143318e-06,
          1.0090930964856656e-06,
          1.002275246897363e-06,
          9.986893828177242e-07,
          9.843173601865227e-07,
          9.836570287250144e-07,
          9.825448875437373e-07,
          9.810717257860913e-07,
          9.7206216210442e-07,
          9.697431437121083e-07,
          9.63937228301977e-07,
          9.558787021525492e-07,
          9.550405672497058e-07,
          9.514140722319677e-07,
          9.378892715190999e-07,
          9.357932834512321e-07,
          9.319694253582417e-07,
          9.305045063238302e-07,
          9.290007967213302e-07,
          9.276524336369188e-07,
          9.264207333844289e-07,
          9.175606730694427e-07,
          9.118778934858754e-07,
          9.057094663323611e-07,
          8.901114757563998e-07,
          8.750363173487954e-07,
          8.718614010086249e-07,
          8.636146976520676e-07,
          8.635747991849406e-07,
          8.461019286744327e-07,
          8.44573922083878e-07,
          8.410292701636576e-07,
          8.346185937190158e-07,
          8.290710127543273e-07,
          8.248498487404197e-07,
          8.228310085981835e-07,
          8.224427237357286e-07,
          8.210915710543621e-07,
          8.179618422529639e-07
         ]
        }
       ],
       "layout": {
        "template": {
         "data": {
          "bar": [
           {
            "error_x": {
             "color": "#2a3f5f"
            },
            "error_y": {
             "color": "#2a3f5f"
            },
            "marker": {
             "line": {
              "color": "#E5ECF6",
              "width": 0.5
             },
             "pattern": {
              "fillmode": "overlay",
              "size": 10,
              "solidity": 0.2
             }
            },
            "type": "bar"
           }
          ],
          "barpolar": [
           {
            "marker": {
             "line": {
              "color": "#E5ECF6",
              "width": 0.5
             },
             "pattern": {
              "fillmode": "overlay",
              "size": 10,
              "solidity": 0.2
             }
            },
            "type": "barpolar"
           }
          ],
          "carpet": [
           {
            "aaxis": {
             "endlinecolor": "#2a3f5f",
             "gridcolor": "white",
             "linecolor": "white",
             "minorgridcolor": "white",
             "startlinecolor": "#2a3f5f"
            },
            "baxis": {
             "endlinecolor": "#2a3f5f",
             "gridcolor": "white",
             "linecolor": "white",
             "minorgridcolor": "white",
             "startlinecolor": "#2a3f5f"
            },
            "type": "carpet"
           }
          ],
          "choropleth": [
           {
            "colorbar": {
             "outlinewidth": 0,
             "ticks": ""
            },
            "type": "choropleth"
           }
          ],
          "contour": [
           {
            "colorbar": {
             "outlinewidth": 0,
             "ticks": ""
            },
            "colorscale": [
             [
              0,
              "#0d0887"
             ],
             [
              0.1111111111111111,
              "#46039f"
             ],
             [
              0.2222222222222222,
              "#7201a8"
             ],
             [
              0.3333333333333333,
              "#9c179e"
             ],
             [
              0.4444444444444444,
              "#bd3786"
             ],
             [
              0.5555555555555556,
              "#d8576b"
             ],
             [
              0.6666666666666666,
              "#ed7953"
             ],
             [
              0.7777777777777778,
              "#fb9f3a"
             ],
             [
              0.8888888888888888,
              "#fdca26"
             ],
             [
              1,
              "#f0f921"
             ]
            ],
            "type": "contour"
           }
          ],
          "contourcarpet": [
           {
            "colorbar": {
             "outlinewidth": 0,
             "ticks": ""
            },
            "type": "contourcarpet"
           }
          ],
          "heatmap": [
           {
            "colorbar": {
             "outlinewidth": 0,
             "ticks": ""
            },
            "colorscale": [
             [
              0,
              "#0d0887"
             ],
             [
              0.1111111111111111,
              "#46039f"
             ],
             [
              0.2222222222222222,
              "#7201a8"
             ],
             [
              0.3333333333333333,
              "#9c179e"
             ],
             [
              0.4444444444444444,
              "#bd3786"
             ],
             [
              0.5555555555555556,
              "#d8576b"
             ],
             [
              0.6666666666666666,
              "#ed7953"
             ],
             [
              0.7777777777777778,
              "#fb9f3a"
             ],
             [
              0.8888888888888888,
              "#fdca26"
             ],
             [
              1,
              "#f0f921"
             ]
            ],
            "type": "heatmap"
           }
          ],
          "heatmapgl": [
           {
            "colorbar": {
             "outlinewidth": 0,
             "ticks": ""
            },
            "colorscale": [
             [
              0,
              "#0d0887"
             ],
             [
              0.1111111111111111,
              "#46039f"
             ],
             [
              0.2222222222222222,
              "#7201a8"
             ],
             [
              0.3333333333333333,
              "#9c179e"
             ],
             [
              0.4444444444444444,
              "#bd3786"
             ],
             [
              0.5555555555555556,
              "#d8576b"
             ],
             [
              0.6666666666666666,
              "#ed7953"
             ],
             [
              0.7777777777777778,
              "#fb9f3a"
             ],
             [
              0.8888888888888888,
              "#fdca26"
             ],
             [
              1,
              "#f0f921"
             ]
            ],
            "type": "heatmapgl"
           }
          ],
          "histogram": [
           {
            "marker": {
             "pattern": {
              "fillmode": "overlay",
              "size": 10,
              "solidity": 0.2
             }
            },
            "type": "histogram"
           }
          ],
          "histogram2d": [
           {
            "colorbar": {
             "outlinewidth": 0,
             "ticks": ""
            },
            "colorscale": [
             [
              0,
              "#0d0887"
             ],
             [
              0.1111111111111111,
              "#46039f"
             ],
             [
              0.2222222222222222,
              "#7201a8"
             ],
             [
              0.3333333333333333,
              "#9c179e"
             ],
             [
              0.4444444444444444,
              "#bd3786"
             ],
             [
              0.5555555555555556,
              "#d8576b"
             ],
             [
              0.6666666666666666,
              "#ed7953"
             ],
             [
              0.7777777777777778,
              "#fb9f3a"
             ],
             [
              0.8888888888888888,
              "#fdca26"
             ],
             [
              1,
              "#f0f921"
             ]
            ],
            "type": "histogram2d"
           }
          ],
          "histogram2dcontour": [
           {
            "colorbar": {
             "outlinewidth": 0,
             "ticks": ""
            },
            "colorscale": [
             [
              0,
              "#0d0887"
             ],
             [
              0.1111111111111111,
              "#46039f"
             ],
             [
              0.2222222222222222,
              "#7201a8"
             ],
             [
              0.3333333333333333,
              "#9c179e"
             ],
             [
              0.4444444444444444,
              "#bd3786"
             ],
             [
              0.5555555555555556,
              "#d8576b"
             ],
             [
              0.6666666666666666,
              "#ed7953"
             ],
             [
              0.7777777777777778,
              "#fb9f3a"
             ],
             [
              0.8888888888888888,
              "#fdca26"
             ],
             [
              1,
              "#f0f921"
             ]
            ],
            "type": "histogram2dcontour"
           }
          ],
          "mesh3d": [
           {
            "colorbar": {
             "outlinewidth": 0,
             "ticks": ""
            },
            "type": "mesh3d"
           }
          ],
          "parcoords": [
           {
            "line": {
             "colorbar": {
              "outlinewidth": 0,
              "ticks": ""
             }
            },
            "type": "parcoords"
           }
          ],
          "pie": [
           {
            "automargin": true,
            "type": "pie"
           }
          ],
          "scatter": [
           {
            "fillpattern": {
             "fillmode": "overlay",
             "size": 10,
             "solidity": 0.2
            },
            "type": "scatter"
           }
          ],
          "scatter3d": [
           {
            "line": {
             "colorbar": {
              "outlinewidth": 0,
              "ticks": ""
             }
            },
            "marker": {
             "colorbar": {
              "outlinewidth": 0,
              "ticks": ""
             }
            },
            "type": "scatter3d"
           }
          ],
          "scattercarpet": [
           {
            "marker": {
             "colorbar": {
              "outlinewidth": 0,
              "ticks": ""
             }
            },
            "type": "scattercarpet"
           }
          ],
          "scattergeo": [
           {
            "marker": {
             "colorbar": {
              "outlinewidth": 0,
              "ticks": ""
             }
            },
            "type": "scattergeo"
           }
          ],
          "scattergl": [
           {
            "marker": {
             "colorbar": {
              "outlinewidth": 0,
              "ticks": ""
             }
            },
            "type": "scattergl"
           }
          ],
          "scattermapbox": [
           {
            "marker": {
             "colorbar": {
              "outlinewidth": 0,
              "ticks": ""
             }
            },
            "type": "scattermapbox"
           }
          ],
          "scatterpolar": [
           {
            "marker": {
             "colorbar": {
              "outlinewidth": 0,
              "ticks": ""
             }
            },
            "type": "scatterpolar"
           }
          ],
          "scatterpolargl": [
           {
            "marker": {
             "colorbar": {
              "outlinewidth": 0,
              "ticks": ""
             }
            },
            "type": "scatterpolargl"
           }
          ],
          "scatterternary": [
           {
            "marker": {
             "colorbar": {
              "outlinewidth": 0,
              "ticks": ""
             }
            },
            "type": "scatterternary"
           }
          ],
          "surface": [
           {
            "colorbar": {
             "outlinewidth": 0,
             "ticks": ""
            },
            "colorscale": [
             [
              0,
              "#0d0887"
             ],
             [
              0.1111111111111111,
              "#46039f"
             ],
             [
              0.2222222222222222,
              "#7201a8"
             ],
             [
              0.3333333333333333,
              "#9c179e"
             ],
             [
              0.4444444444444444,
              "#bd3786"
             ],
             [
              0.5555555555555556,
              "#d8576b"
             ],
             [
              0.6666666666666666,
              "#ed7953"
             ],
             [
              0.7777777777777778,
              "#fb9f3a"
             ],
             [
              0.8888888888888888,
              "#fdca26"
             ],
             [
              1,
              "#f0f921"
             ]
            ],
            "type": "surface"
           }
          ],
          "table": [
           {
            "cells": {
             "fill": {
              "color": "#EBF0F8"
             },
             "line": {
              "color": "white"
             }
            },
            "header": {
             "fill": {
              "color": "#C8D4E3"
             },
             "line": {
              "color": "white"
             }
            },
            "type": "table"
           }
          ]
         },
         "layout": {
          "annotationdefaults": {
           "arrowcolor": "#2a3f5f",
           "arrowhead": 0,
           "arrowwidth": 1
          },
          "autotypenumbers": "strict",
          "coloraxis": {
           "colorbar": {
            "outlinewidth": 0,
            "ticks": ""
           }
          },
          "colorscale": {
           "diverging": [
            [
             0,
             "#8e0152"
            ],
            [
             0.1,
             "#c51b7d"
            ],
            [
             0.2,
             "#de77ae"
            ],
            [
             0.3,
             "#f1b6da"
            ],
            [
             0.4,
             "#fde0ef"
            ],
            [
             0.5,
             "#f7f7f7"
            ],
            [
             0.6,
             "#e6f5d0"
            ],
            [
             0.7,
             "#b8e186"
            ],
            [
             0.8,
             "#7fbc41"
            ],
            [
             0.9,
             "#4d9221"
            ],
            [
             1,
             "#276419"
            ]
           ],
           "sequential": [
            [
             0,
             "#0d0887"
            ],
            [
             0.1111111111111111,
             "#46039f"
            ],
            [
             0.2222222222222222,
             "#7201a8"
            ],
            [
             0.3333333333333333,
             "#9c179e"
            ],
            [
             0.4444444444444444,
             "#bd3786"
            ],
            [
             0.5555555555555556,
             "#d8576b"
            ],
            [
             0.6666666666666666,
             "#ed7953"
            ],
            [
             0.7777777777777778,
             "#fb9f3a"
            ],
            [
             0.8888888888888888,
             "#fdca26"
            ],
            [
             1,
             "#f0f921"
            ]
           ],
           "sequentialminus": [
            [
             0,
             "#0d0887"
            ],
            [
             0.1111111111111111,
             "#46039f"
            ],
            [
             0.2222222222222222,
             "#7201a8"
            ],
            [
             0.3333333333333333,
             "#9c179e"
            ],
            [
             0.4444444444444444,
             "#bd3786"
            ],
            [
             0.5555555555555556,
             "#d8576b"
            ],
            [
             0.6666666666666666,
             "#ed7953"
            ],
            [
             0.7777777777777778,
             "#fb9f3a"
            ],
            [
             0.8888888888888888,
             "#fdca26"
            ],
            [
             1,
             "#f0f921"
            ]
           ]
          },
          "colorway": [
           "#636efa",
           "#EF553B",
           "#00cc96",
           "#ab63fa",
           "#FFA15A",
           "#19d3f3",
           "#FF6692",
           "#B6E880",
           "#FF97FF",
           "#FECB52"
          ],
          "font": {
           "color": "#2a3f5f"
          },
          "geo": {
           "bgcolor": "white",
           "lakecolor": "white",
           "landcolor": "#E5ECF6",
           "showlakes": true,
           "showland": true,
           "subunitcolor": "white"
          },
          "hoverlabel": {
           "align": "left"
          },
          "hovermode": "closest",
          "mapbox": {
           "style": "light"
          },
          "paper_bgcolor": "white",
          "plot_bgcolor": "#E5ECF6",
          "polar": {
           "angularaxis": {
            "gridcolor": "white",
            "linecolor": "white",
            "ticks": ""
           },
           "bgcolor": "#E5ECF6",
           "radialaxis": {
            "gridcolor": "white",
            "linecolor": "white",
            "ticks": ""
           }
          },
          "scene": {
           "xaxis": {
            "backgroundcolor": "#E5ECF6",
            "gridcolor": "white",
            "gridwidth": 2,
            "linecolor": "white",
            "showbackground": true,
            "ticks": "",
            "zerolinecolor": "white"
           },
           "yaxis": {
            "backgroundcolor": "#E5ECF6",
            "gridcolor": "white",
            "gridwidth": 2,
            "linecolor": "white",
            "showbackground": true,
            "ticks": "",
            "zerolinecolor": "white"
           },
           "zaxis": {
            "backgroundcolor": "#E5ECF6",
            "gridcolor": "white",
            "gridwidth": 2,
            "linecolor": "white",
            "showbackground": true,
            "ticks": "",
            "zerolinecolor": "white"
           }
          },
          "shapedefaults": {
           "line": {
            "color": "#2a3f5f"
           }
          },
          "ternary": {
           "aaxis": {
            "gridcolor": "white",
            "linecolor": "white",
            "ticks": ""
           },
           "baxis": {
            "gridcolor": "white",
            "linecolor": "white",
            "ticks": ""
           },
           "bgcolor": "#E5ECF6",
           "caxis": {
            "gridcolor": "white",
            "linecolor": "white",
            "ticks": ""
           }
          },
          "title": {
           "x": 0.05
          },
          "xaxis": {
           "automargin": true,
           "gridcolor": "white",
           "linecolor": "white",
           "ticks": "",
           "title": {
            "standoff": 15
           },
           "zerolinecolor": "white",
           "zerolinewidth": 2
          },
          "yaxis": {
           "automargin": true,
           "gridcolor": "white",
           "linecolor": "white",
           "ticks": "",
           "title": {
            "standoff": 15
           },
           "zerolinecolor": "white",
           "zerolinewidth": 2
          }
         }
        },
        "title": {
         "text": "PageRank scores"
        },
        "xaxis": {
         "title": {
          "text": "Node ID"
         }
        },
        "yaxis": {
         "title": {
          "text": "Score"
         }
        }
       }
      },
      "text/html": [
       "<div>                            <div id=\"a58cb8eb-c703-4667-baa2-8323a5365be4\" class=\"plotly-graph-div\" style=\"height:525px; width:100%;\"></div>            <script type=\"text/javascript\">                require([\"plotly\"], function(Plotly) {                    window.PLOTLYENV=window.PLOTLYENV || {};                                    if (document.getElementById(\"a58cb8eb-c703-4667-baa2-8323a5365be4\")) {                    Plotly.newPlot(                        \"a58cb8eb-c703-4667-baa2-8323a5365be4\",                        [{\"mode\":\"lines\",\"x\":[1,2,3,4,5,6,7,8,9,10,11,12,13,14,15,16,17,18,19,20,21,22,23,24,25,26,27,28,29,30,31,32,33,34,35,36,37,38,39,40,41,42,43,44,45,46,47,48,49,50,51,52,53,54,55,56,57,58,59,60,61,62,63,64,65,66,67,68,69,70,71,72,73,74,75,76,77,78,79,80,81,82,83,84,85,86,87,88,89,90,91,92,93,94,95,96,97,98,99,100],\"y\":[7.945290201360952e-06,6.154808906254422e-06,5.4118128128702526e-06,5.0484852225705165e-06,4.6387055686501664e-06,4.6189215398053685e-06,4.194102725202952e-06,3.98312504050675e-06,3.399256851758646e-06,3.140466934046247e-06,2.7681663657358966e-06,2.6245897662883717e-06,2.6047690523225917e-06,2.5951494064786984e-06,2.282933684526746e-06,2.214231327231964e-06,2.186265507027362e-06,1.941578034560717e-06,1.9396141070046414e-06,1.8713618006170736e-06,1.8691017114945755e-06,1.863229284322607e-06,1.7893206696398765e-06,1.7666684184968786e-06,1.7247617100820063e-06,1.671021342151208e-06,1.6403379703427124e-06,1.61875764908608e-06,1.4752368840258638e-06,1.4718610761260532e-06,1.4221379501784873e-06,1.4203658029560669e-06,1.41818987520677e-06,1.4004484359811846e-06,1.3466689614651203e-06,1.3232321917870216e-06,1.3164103390159568e-06,1.3060933309451467e-06,1.2439193255541152e-06,1.2265091415760663e-06,1.2055039777972878e-06,1.1839190096119746e-06,1.166840835424718e-06,1.151878964655938e-06,1.1497758782208079e-06,1.1222753884562184e-06,1.1112180637690208e-06,1.1038068783579804e-06,1.0870217946422098e-06,1.0867971282897177e-06,1.079079644403522e-06,1.0778739138460862e-06,1.0761815205027997e-06,1.0725356579090207e-06,1.0676417543816184e-06,1.0395479827834684e-06,1.0389727768857354e-06,1.0334786965274647e-06,1.0255405026322363e-06,1.0179631075163641e-06,1.0157942167974685e-06,1.0151686980143318e-06,1.0090930964856656e-06,1.002275246897363e-06,9.986893828177242e-07,9.843173601865227e-07,9.836570287250144e-07,9.825448875437373e-07,9.810717257860913e-07,9.7206216210442e-07,9.697431437121083e-07,9.63937228301977e-07,9.558787021525492e-07,9.550405672497058e-07,9.514140722319677e-07,9.378892715190999e-07,9.357932834512321e-07,9.319694253582417e-07,9.305045063238302e-07,9.290007967213302e-07,9.276524336369188e-07,9.264207333844289e-07,9.175606730694427e-07,9.118778934858754e-07,9.057094663323611e-07,8.901114757563998e-07,8.750363173487954e-07,8.718614010086249e-07,8.636146976520676e-07,8.635747991849406e-07,8.461019286744327e-07,8.44573922083878e-07,8.410292701636576e-07,8.346185937190158e-07,8.290710127543273e-07,8.248498487404197e-07,8.228310085981835e-07,8.224427237357286e-07,8.210915710543621e-07,8.179618422529639e-07],\"type\":\"scatter\"}],                        {\"title\":{\"text\":\"PageRank scores\"},\"xaxis\":{\"title\":{\"text\":\"Node ID\"}},\"yaxis\":{\"title\":{\"text\":\"Score\"}},\"template\":{\"data\":{\"histogram2dcontour\":[{\"type\":\"histogram2dcontour\",\"colorbar\":{\"outlinewidth\":0,\"ticks\":\"\"},\"colorscale\":[[0.0,\"#0d0887\"],[0.1111111111111111,\"#46039f\"],[0.2222222222222222,\"#7201a8\"],[0.3333333333333333,\"#9c179e\"],[0.4444444444444444,\"#bd3786\"],[0.5555555555555556,\"#d8576b\"],[0.6666666666666666,\"#ed7953\"],[0.7777777777777778,\"#fb9f3a\"],[0.8888888888888888,\"#fdca26\"],[1.0,\"#f0f921\"]]}],\"choropleth\":[{\"type\":\"choropleth\",\"colorbar\":{\"outlinewidth\":0,\"ticks\":\"\"}}],\"histogram2d\":[{\"type\":\"histogram2d\",\"colorbar\":{\"outlinewidth\":0,\"ticks\":\"\"},\"colorscale\":[[0.0,\"#0d0887\"],[0.1111111111111111,\"#46039f\"],[0.2222222222222222,\"#7201a8\"],[0.3333333333333333,\"#9c179e\"],[0.4444444444444444,\"#bd3786\"],[0.5555555555555556,\"#d8576b\"],[0.6666666666666666,\"#ed7953\"],[0.7777777777777778,\"#fb9f3a\"],[0.8888888888888888,\"#fdca26\"],[1.0,\"#f0f921\"]]}],\"heatmap\":[{\"type\":\"heatmap\",\"colorbar\":{\"outlinewidth\":0,\"ticks\":\"\"},\"colorscale\":[[0.0,\"#0d0887\"],[0.1111111111111111,\"#46039f\"],[0.2222222222222222,\"#7201a8\"],[0.3333333333333333,\"#9c179e\"],[0.4444444444444444,\"#bd3786\"],[0.5555555555555556,\"#d8576b\"],[0.6666666666666666,\"#ed7953\"],[0.7777777777777778,\"#fb9f3a\"],[0.8888888888888888,\"#fdca26\"],[1.0,\"#f0f921\"]]}],\"heatmapgl\":[{\"type\":\"heatmapgl\",\"colorbar\":{\"outlinewidth\":0,\"ticks\":\"\"},\"colorscale\":[[0.0,\"#0d0887\"],[0.1111111111111111,\"#46039f\"],[0.2222222222222222,\"#7201a8\"],[0.3333333333333333,\"#9c179e\"],[0.4444444444444444,\"#bd3786\"],[0.5555555555555556,\"#d8576b\"],[0.6666666666666666,\"#ed7953\"],[0.7777777777777778,\"#fb9f3a\"],[0.8888888888888888,\"#fdca26\"],[1.0,\"#f0f921\"]]}],\"contourcarpet\":[{\"type\":\"contourcarpet\",\"colorbar\":{\"outlinewidth\":0,\"ticks\":\"\"}}],\"contour\":[{\"type\":\"contour\",\"colorbar\":{\"outlinewidth\":0,\"ticks\":\"\"},\"colorscale\":[[0.0,\"#0d0887\"],[0.1111111111111111,\"#46039f\"],[0.2222222222222222,\"#7201a8\"],[0.3333333333333333,\"#9c179e\"],[0.4444444444444444,\"#bd3786\"],[0.5555555555555556,\"#d8576b\"],[0.6666666666666666,\"#ed7953\"],[0.7777777777777778,\"#fb9f3a\"],[0.8888888888888888,\"#fdca26\"],[1.0,\"#f0f921\"]]}],\"surface\":[{\"type\":\"surface\",\"colorbar\":{\"outlinewidth\":0,\"ticks\":\"\"},\"colorscale\":[[0.0,\"#0d0887\"],[0.1111111111111111,\"#46039f\"],[0.2222222222222222,\"#7201a8\"],[0.3333333333333333,\"#9c179e\"],[0.4444444444444444,\"#bd3786\"],[0.5555555555555556,\"#d8576b\"],[0.6666666666666666,\"#ed7953\"],[0.7777777777777778,\"#fb9f3a\"],[0.8888888888888888,\"#fdca26\"],[1.0,\"#f0f921\"]]}],\"mesh3d\":[{\"type\":\"mesh3d\",\"colorbar\":{\"outlinewidth\":0,\"ticks\":\"\"}}],\"scatter\":[{\"fillpattern\":{\"fillmode\":\"overlay\",\"size\":10,\"solidity\":0.2},\"type\":\"scatter\"}],\"parcoords\":[{\"type\":\"parcoords\",\"line\":{\"colorbar\":{\"outlinewidth\":0,\"ticks\":\"\"}}}],\"scatterpolargl\":[{\"type\":\"scatterpolargl\",\"marker\":{\"colorbar\":{\"outlinewidth\":0,\"ticks\":\"\"}}}],\"bar\":[{\"error_x\":{\"color\":\"#2a3f5f\"},\"error_y\":{\"color\":\"#2a3f5f\"},\"marker\":{\"line\":{\"color\":\"#E5ECF6\",\"width\":0.5},\"pattern\":{\"fillmode\":\"overlay\",\"size\":10,\"solidity\":0.2}},\"type\":\"bar\"}],\"scattergeo\":[{\"type\":\"scattergeo\",\"marker\":{\"colorbar\":{\"outlinewidth\":0,\"ticks\":\"\"}}}],\"scatterpolar\":[{\"type\":\"scatterpolar\",\"marker\":{\"colorbar\":{\"outlinewidth\":0,\"ticks\":\"\"}}}],\"histogram\":[{\"marker\":{\"pattern\":{\"fillmode\":\"overlay\",\"size\":10,\"solidity\":0.2}},\"type\":\"histogram\"}],\"scattergl\":[{\"type\":\"scattergl\",\"marker\":{\"colorbar\":{\"outlinewidth\":0,\"ticks\":\"\"}}}],\"scatter3d\":[{\"type\":\"scatter3d\",\"line\":{\"colorbar\":{\"outlinewidth\":0,\"ticks\":\"\"}},\"marker\":{\"colorbar\":{\"outlinewidth\":0,\"ticks\":\"\"}}}],\"scattermapbox\":[{\"type\":\"scattermapbox\",\"marker\":{\"colorbar\":{\"outlinewidth\":0,\"ticks\":\"\"}}}],\"scatterternary\":[{\"type\":\"scatterternary\",\"marker\":{\"colorbar\":{\"outlinewidth\":0,\"ticks\":\"\"}}}],\"scattercarpet\":[{\"type\":\"scattercarpet\",\"marker\":{\"colorbar\":{\"outlinewidth\":0,\"ticks\":\"\"}}}],\"carpet\":[{\"aaxis\":{\"endlinecolor\":\"#2a3f5f\",\"gridcolor\":\"white\",\"linecolor\":\"white\",\"minorgridcolor\":\"white\",\"startlinecolor\":\"#2a3f5f\"},\"baxis\":{\"endlinecolor\":\"#2a3f5f\",\"gridcolor\":\"white\",\"linecolor\":\"white\",\"minorgridcolor\":\"white\",\"startlinecolor\":\"#2a3f5f\"},\"type\":\"carpet\"}],\"table\":[{\"cells\":{\"fill\":{\"color\":\"#EBF0F8\"},\"line\":{\"color\":\"white\"}},\"header\":{\"fill\":{\"color\":\"#C8D4E3\"},\"line\":{\"color\":\"white\"}},\"type\":\"table\"}],\"barpolar\":[{\"marker\":{\"line\":{\"color\":\"#E5ECF6\",\"width\":0.5},\"pattern\":{\"fillmode\":\"overlay\",\"size\":10,\"solidity\":0.2}},\"type\":\"barpolar\"}],\"pie\":[{\"automargin\":true,\"type\":\"pie\"}]},\"layout\":{\"autotypenumbers\":\"strict\",\"colorway\":[\"#636efa\",\"#EF553B\",\"#00cc96\",\"#ab63fa\",\"#FFA15A\",\"#19d3f3\",\"#FF6692\",\"#B6E880\",\"#FF97FF\",\"#FECB52\"],\"font\":{\"color\":\"#2a3f5f\"},\"hovermode\":\"closest\",\"hoverlabel\":{\"align\":\"left\"},\"paper_bgcolor\":\"white\",\"plot_bgcolor\":\"#E5ECF6\",\"polar\":{\"bgcolor\":\"#E5ECF6\",\"angularaxis\":{\"gridcolor\":\"white\",\"linecolor\":\"white\",\"ticks\":\"\"},\"radialaxis\":{\"gridcolor\":\"white\",\"linecolor\":\"white\",\"ticks\":\"\"}},\"ternary\":{\"bgcolor\":\"#E5ECF6\",\"aaxis\":{\"gridcolor\":\"white\",\"linecolor\":\"white\",\"ticks\":\"\"},\"baxis\":{\"gridcolor\":\"white\",\"linecolor\":\"white\",\"ticks\":\"\"},\"caxis\":{\"gridcolor\":\"white\",\"linecolor\":\"white\",\"ticks\":\"\"}},\"coloraxis\":{\"colorbar\":{\"outlinewidth\":0,\"ticks\":\"\"}},\"colorscale\":{\"sequential\":[[0.0,\"#0d0887\"],[0.1111111111111111,\"#46039f\"],[0.2222222222222222,\"#7201a8\"],[0.3333333333333333,\"#9c179e\"],[0.4444444444444444,\"#bd3786\"],[0.5555555555555556,\"#d8576b\"],[0.6666666666666666,\"#ed7953\"],[0.7777777777777778,\"#fb9f3a\"],[0.8888888888888888,\"#fdca26\"],[1.0,\"#f0f921\"]],\"sequentialminus\":[[0.0,\"#0d0887\"],[0.1111111111111111,\"#46039f\"],[0.2222222222222222,\"#7201a8\"],[0.3333333333333333,\"#9c179e\"],[0.4444444444444444,\"#bd3786\"],[0.5555555555555556,\"#d8576b\"],[0.6666666666666666,\"#ed7953\"],[0.7777777777777778,\"#fb9f3a\"],[0.8888888888888888,\"#fdca26\"],[1.0,\"#f0f921\"]],\"diverging\":[[0,\"#8e0152\"],[0.1,\"#c51b7d\"],[0.2,\"#de77ae\"],[0.3,\"#f1b6da\"],[0.4,\"#fde0ef\"],[0.5,\"#f7f7f7\"],[0.6,\"#e6f5d0\"],[0.7,\"#b8e186\"],[0.8,\"#7fbc41\"],[0.9,\"#4d9221\"],[1,\"#276419\"]]},\"xaxis\":{\"gridcolor\":\"white\",\"linecolor\":\"white\",\"ticks\":\"\",\"title\":{\"standoff\":15},\"zerolinecolor\":\"white\",\"automargin\":true,\"zerolinewidth\":2},\"yaxis\":{\"gridcolor\":\"white\",\"linecolor\":\"white\",\"ticks\":\"\",\"title\":{\"standoff\":15},\"zerolinecolor\":\"white\",\"automargin\":true,\"zerolinewidth\":2},\"scene\":{\"xaxis\":{\"backgroundcolor\":\"#E5ECF6\",\"gridcolor\":\"white\",\"linecolor\":\"white\",\"showbackground\":true,\"ticks\":\"\",\"zerolinecolor\":\"white\",\"gridwidth\":2},\"yaxis\":{\"backgroundcolor\":\"#E5ECF6\",\"gridcolor\":\"white\",\"linecolor\":\"white\",\"showbackground\":true,\"ticks\":\"\",\"zerolinecolor\":\"white\",\"gridwidth\":2},\"zaxis\":{\"backgroundcolor\":\"#E5ECF6\",\"gridcolor\":\"white\",\"linecolor\":\"white\",\"showbackground\":true,\"ticks\":\"\",\"zerolinecolor\":\"white\",\"gridwidth\":2}},\"shapedefaults\":{\"line\":{\"color\":\"#2a3f5f\"}},\"annotationdefaults\":{\"arrowcolor\":\"#2a3f5f\",\"arrowhead\":0,\"arrowwidth\":1},\"geo\":{\"bgcolor\":\"white\",\"landcolor\":\"#E5ECF6\",\"subunitcolor\":\"white\",\"showland\":true,\"showlakes\":true,\"lakecolor\":\"white\"},\"title\":{\"x\":0.05},\"mapbox\":{\"style\":\"light\"}}}},                        {\"responsive\": true}                    ).then(function(){\n",
       "                            \n",
       "var gd = document.getElementById('a58cb8eb-c703-4667-baa2-8323a5365be4');\n",
       "var x = new MutationObserver(function (mutations, observer) {{\n",
       "        var display = window.getComputedStyle(gd).display;\n",
       "        if (!display || display === 'none') {{\n",
       "            console.log([gd, 'removed!']);\n",
       "            Plotly.purge(gd);\n",
       "            observer.disconnect();\n",
       "        }}\n",
       "}});\n",
       "\n",
       "// Listen for the removal of the full notebook cells\n",
       "var notebookContainer = gd.closest('#notebook-container');\n",
       "if (notebookContainer) {{\n",
       "    x.observe(notebookContainer, {childList: true});\n",
       "}}\n",
       "\n",
       "// Listen for the clearing of the current output cell\n",
       "var outputEl = gd.closest('.output');\n",
       "if (outputEl) {{\n",
       "    x.observe(outputEl, {childList: true});\n",
       "}}\n",
       "\n",
       "                        })                };                });            </script>        </div>"
      ]
     },
     "metadata": {},
     "output_type": "display_data"
    }
   ],
   "source": [
    "top_scores = [score for _, score in sorted_scores[:100]]\n",
    "\n",
    "trace = go.Scatter(\n",
    "    x=list(range(1, 101)), \n",
    "    y=top_scores, \n",
    "    mode=\"lines\"\n",
    ")\n",
    "\n",
    "layout = go.Layout(\n",
    "    title=\"PageRank scores\",\n",
    "    xaxis=dict(title=\"Node ID\"),\n",
    "    yaxis=dict(title=\"Score\")\n",
    ")\n",
    "\n",
    "fig = go.Figure(data=[trace], layout=layout)\n",
    "fig.show()"
   ]
  }
 ],
 "metadata": {
  "kernelspec": {
   "display_name": "Python 3 (ipykernel)",
   "language": "python",
   "name": "python3"
  },
  "language_info": {
   "codemirror_mode": {
    "name": "ipython",
    "version": 3
   },
   "file_extension": ".py",
   "mimetype": "text/x-python",
   "name": "python",
   "nbconvert_exporter": "python",
   "pygments_lexer": "ipython3",
   "version": "3.9.13"
  }
 },
 "nbformat": 4,
 "nbformat_minor": 5
}
